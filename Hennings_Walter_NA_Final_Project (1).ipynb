{
 "cells": [
  {
   "cell_type": "markdown",
   "metadata": {},
   "source": [
    "# Final Project: Numerical Analysis:\n",
    "# Not-A-Knot Cubic Spline Interpolation\n",
    "## Walter Hennings"
   ]
  },
  {
   "cell_type": "markdown",
   "metadata": {},
   "source": [
    "## Background:"
   ]
  },
  {
   "cell_type": "markdown",
   "metadata": {},
   "source": [
    "\n",
    "Spline interpolation is a form of interpolation in which the interpolant is a piecewise polynomial.\n",
    "In the cubic spline, these splines are piecewise cubic, meaning degree at most 3.\n",
    "\n",
    "These polynomials are fit smoothly together, unlike linear splines which just connect the points such that the interpolant is non-differentiable at the data points it is approximating. This leads to a lower interpolating error.\n",
    "\n",
    "Cubic splines are also preferable to higher order interpolants, as higher order interpolants introduce continuity at higher order derivatives, which may cause overfitting and high frequency behavior in between points known as the Runge Phenomenon."
   ]
  },
  {
   "cell_type": "markdown",
   "metadata": {},
   "source": [
    "## Properties:"
   ]
  },
  {
   "cell_type": "markdown",
   "metadata": {},
   "source": [
    "The cubic spline $S(x)$ is a piecewise function that approximates the data points $(x_1,y_1),...,(x_n,y_n)$ such that each polynomial $S_1,S_2,...,S_n$ is defined on $\\{[x_1,x_2],[x_2,x_3],...,[x_{n-1},x_n]\\}$. So, $S(x)$ is defined by\n",
    "\n",
    "$$\n",
    "S(x) = \\left\\{\n",
    "        \\begin{array}{ll}\n",
    "            y_1 + b_1(x-x_1) + c_1(x-x_1)^2 + d_1(x-x_1)^3 & \\quad x_1 \\leq x \\leq x_2 \\\\\n",
    "            y_2 + b_2(x-x_2) + c_2(x-x_2)^2 + d_2(x-x_2)^3 & \\quad x_2 \\leq x \\leq x_3 \\\\\n",
    "            ...\\\\\n",
    "            y_{n-1} + b_{n-1}(x-x_{n-1}) + c_{n-1}(x-x_{n-1})^2 + d_{n-1}(x-x_{n-1})^3 & \\quad x_{n-1} \\leq x \\leq x_n \\\\\n",
    "        \\end{array}\n",
    "    \\right.\n",
    "$$"
   ]
  },
  {
   "cell_type": "markdown",
   "metadata": {},
   "source": [
    "$S(x)$ has the following properties: \\begin{align*}\n",
    "S(x_i) &= y_i \\;\\; \\text{for $i = 1,2,...,n-1$}\\\\\n",
    "S'_{i-1}(x_i) &= S'_i(x_i) \\;\\; \\text{for $i = 2,3,...,n-1$}\\\\\n",
    "S''_{i-1}(x_i) &= S''_i(x_i) \\;\\; \\text{for $i = 2,3,...,n-1$}\\\\\n",
    "\\end{align*}"
   ]
  },
  {
   "cell_type": "markdown",
   "metadata": {},
   "source": [
    "These properties ensure that the interpolant intersects the data points, and that at these points, the derivative and second derivative agree (aka, $S(x)$ is twice differentiable)."
   ]
  },
  {
   "cell_type": "markdown",
   "metadata": {},
   "source": [
    "## Endpoint Conditions: Not-a-Knot Cubic Spline "
   ]
  },
  {
   "cell_type": "markdown",
   "metadata": {},
   "source": [
    "Knots are defined as the x values at which the piecewise polynomials meet; The Not-a-Knot cubic spline adds another constraint, forcing $S(x)$ to have a continuous third derivative at the second point and second to last point. That is, \n",
    "\\begin{align*}\n",
    "S'''_1 &= S'''_2 \\\\\n",
    "S'''_{n-1} &= S'''_{n}\n",
    "\\end{align*}"
   ]
  },
  {
   "cell_type": "markdown",
   "metadata": {},
   "source": [
    "Since all $S_i$ are at most 3rd degree polynomials, making the third derivatives equal at these points implies that $S_1 = S_2$ and $S_{n-1} = S_n$, implying that $x_2$ and $x_{n-1}$ are no longer nots, and are no longer needed in the interpolation conditions."
   ]
  },
  {
   "cell_type": "markdown",
   "metadata": {},
   "source": [
    "## Calculating Coefficients:"
   ]
  },
  {
   "cell_type": "markdown",
   "metadata": {},
   "source": [
    "Each polynomial has unknown coefficients $b_i,c_i,d_i$. The $c_i$'s are obtained by solving a tri-diagonal system of equations. If we define the following:\n",
    "\\begin{align*}\n",
    "\\delta_i &= x_{i+1} - x_i\\;\\; \\text{and}\\\\\n",
    "\\Delta_i &= y_{i+1} - y_i\n",
    "\\end{align*}"
   ]
  },
  {
   "cell_type": "markdown",
   "metadata": {},
   "source": [
    "Then we obtain each $c_i$ by solving:\n",
    "\n",
    "\\begin{array}{ccccc|c}\n",
    "\\delta_2 & -(\\delta_1 + \\delta_2) & \\delta_1 & 0 & 0 & 0\\\\\n",
    "\\delta_1 & 2(\\delta_1+\\delta_2) & \\delta_2 & 0 & 0 & 3(\\frac{\\Delta_2}{\\delta_2} - \\frac{\\Delta_1}{\\delta_1})\\\\\n",
    "0 & \\delta_2 & 2(\\delta_2+\\delta_3) & \\delta_3 & 0 & 3(\\frac{\\Delta_3}{\\delta_3} - \\frac{\\Delta_2}{\\delta_2})\\\\\n",
    "0 & 0 & ... & ... & 0 & ...\\\\\n",
    "0 & 0 & \\delta_{n-2} & 2(\\delta_{n-2} + \\delta_{n-1}) & \\delta_{n-1} & 3(\\frac{\\Delta_{n-1}}{\\delta_{n-1}} - \\frac{\\Delta_{n-2}}{\\delta_{n-2}})\\\\\n",
    "0 & 0 & \\delta_{n-1} & -(\\delta_{n-2} + \\delta{n-1}) & \\delta_{n-2} & 0\n",
    "\\end{array}\n"
   ]
  },
  {
   "cell_type": "markdown",
   "metadata": {},
   "source": [
    "where $c_1,...,c_n$ are the variables of the coefficient matrix. Once $c_i$ is obtained, $b_i$ and $d_i$ are easily obtained by\n",
    "\\begin{align*}\n",
    "b_i &= \\frac{\\Delta_i}{\\delta_i} - \\frac{\\delta_i}{3}(2c_i + c_{i+1})\\\\\n",
    "d_i &= \\frac{c_{i+1} - c_i}{3\\delta_i}\n",
    "\\end{align*}"
   ]
  },
  {
   "cell_type": "markdown",
   "metadata": {},
   "source": [
    "## Software Implementation:"
   ]
  },
  {
   "cell_type": "markdown",
   "metadata": {},
   "source": [
    "With the coefficients, there's enough information to intorpolate a given set of data: First we import the necessary libraries:"
   ]
  },
  {
   "cell_type": "code",
   "execution_count": 3,
   "metadata": {},
   "outputs": [],
   "source": [
    "import numpy as np\n",
    "import pandas as pd\n",
    "import math"
   ]
  },
  {
   "cell_type": "code",
   "execution_count": 4,
   "metadata": {},
   "outputs": [],
   "source": [
    "n = 10 #This is how many datapoints we have\n",
    "x = range(0,n)  #Construct the x coordinates from 0 to 9\n",
    "\n",
    "y = np.zeros(n) #Initialize our y vectors\n",
    "for i in range(0,len(y)):\n",
    "    y[i] = math.exp(x[i]) #We will interpolate e^x: This creates an array of y values from our x values"
   ]
  },
  {
   "cell_type": "markdown",
   "metadata": {},
   "source": [
    "Next we can create a dataframe of x and y values:"
   ]
  },
  {
   "cell_type": "code",
   "execution_count": 5,
   "metadata": {},
   "outputs": [],
   "source": [
    "d = {'x': x,'y': y} #Creates a dictionary of x and y values\n",
    "df = pd.DataFrame(d) #Use Pandas DataFrame function to generate the dataframe from the dictionary"
   ]
  },
  {
   "cell_type": "markdown",
   "metadata": {},
   "source": [
    "Now we can define a function \"splinecoeff()\" that takes in our 2-column dataframe and calculates the spline coefficients $b_1,...,b_n$,$c_1,...,c_n$,$d_1,...,d_n$ using the equations above. We will use this in a later function to compute the interpolant."
   ]
  },
  {
   "cell_type": "code",
   "execution_count": 6,
   "metadata": {},
   "outputs": [],
   "source": [
    "def splinecoeff(df):\n",
    "    n = len(df) #Redefine n as the length of the dataframe\n",
    "    x = df.iloc[:,0]   #extract x vector from dataframe\n",
    "    y = df.iloc[:,1]   #extract y vector from dataframe\n",
    "    A = np.matrix(np.zeros((n,n))) #Initialize the tri-diagonal matrix as the zero matrix\n",
    "    r = np.zeros(n) #Initialize r vector to solve for the c vector\n",
    "    delt = np.zeros(n) #Initialize list of dx values\n",
    "    delta = np.zeros(n) #Initialize list of dy values\n",
    "    for i in range(0,n-1): #This for loop constructs the dx and dy lists from the x and y values in the dataframe.\n",
    "        delt[i] = x[i+1] - x[i] #dx\n",
    "        delta[i] = y[i+1] - y[i] #dy\n",
    "    for i in range(1,n-1): #This for loop builds the tri-diagonal o=coefficient matrix and the r vector which solves for c\n",
    "        A[i,i-1:i+2] = [delt[i-1], 2*(delt[i-1]+delt[i]), delt[i]] \n",
    "        r[i] = 3*((delta[i]/delt[i]) - (delta[i-1]/delt[i-1]))\n",
    "    \n",
    "    #Now we need endpoint conditions for not-a-knot spline:\n",
    "    A[0,0:3] = [delt[1], -(delt[0]+delt[1]), delt[0]] \n",
    "    A[n-1,n-3:n] = [delt[n-1], -(delt[n-2]+delt[n-1]), delt[n-2]]\n",
    "    \n",
    "    c = np.linalg.solve(A,r) #Solves the system of equations Ac = r for c.\n",
    "    b = np.zeros(n) #Initialize b and d lists\n",
    "    d = np.zeros(n)\n",
    "    \n",
    "    for i in range(0,n-1):\n",
    "        d[i] = (c[i+1] - c[i])/(3*delt[i]) #Iterate and find each d,b coefficient.\n",
    "        b[i] = (delta[i]/delt[i]) - ((delt[i]/3)*(2*c[i] + c[i+1]))\n",
    "    \n",
    "    c = np.transpose(c)\n",
    "    \n",
    "    a = {'b':b,'d':d,'c':c}\n",
    "    coeff = pd.DataFrame(a)\n",
    "    return coeff #The function returns a dataframe of all coefficients."
   ]
  },
  {
   "cell_type": "code",
   "execution_count": 7,
   "metadata": {},
   "outputs": [
    {
     "data": {
      "text/html": [
       "<div>\n",
       "<style scoped>\n",
       "    .dataframe tbody tr th:only-of-type {\n",
       "        vertical-align: middle;\n",
       "    }\n",
       "\n",
       "    .dataframe tbody tr th {\n",
       "        vertical-align: top;\n",
       "    }\n",
       "\n",
       "    .dataframe thead th {\n",
       "        text-align: right;\n",
       "    }\n",
       "</style>\n",
       "<table border=\"1\" class=\"dataframe\">\n",
       "  <thead>\n",
       "    <tr style=\"text-align: right;\">\n",
       "      <th></th>\n",
       "      <th>b</th>\n",
       "      <th>d</th>\n",
       "      <th>c</th>\n",
       "    </tr>\n",
       "  </thead>\n",
       "  <tbody>\n",
       "    <tr>\n",
       "      <th>0</th>\n",
       "      <td>1.596620</td>\n",
       "      <td>0.677292</td>\n",
       "      <td>-0.555630</td>\n",
       "    </tr>\n",
       "    <tr>\n",
       "      <th>1</th>\n",
       "      <td>2.517236</td>\n",
       "      <td>0.677292</td>\n",
       "      <td>1.476246</td>\n",
       "    </tr>\n",
       "    <tr>\n",
       "      <th>2</th>\n",
       "      <td>7.501605</td>\n",
       "      <td>1.686754</td>\n",
       "      <td>3.508122</td>\n",
       "    </tr>\n",
       "    <tr>\n",
       "      <th>3</th>\n",
       "      <td>19.578111</td>\n",
       "      <td>6.366118</td>\n",
       "      <td>8.568384</td>\n",
       "    </tr>\n",
       "    <tr>\n",
       "      <th>4</th>\n",
       "      <td>55.813233</td>\n",
       "      <td>10.335038</td>\n",
       "      <td>27.666738</td>\n",
       "    </tr>\n",
       "    <tr>\n",
       "      <th>5</th>\n",
       "      <td>142.151823</td>\n",
       "      <td>54.191959</td>\n",
       "      <td>58.671852</td>\n",
       "    </tr>\n",
       "    <tr>\n",
       "      <th>6</th>\n",
       "      <td>422.071405</td>\n",
       "      <td>49.885230</td>\n",
       "      <td>221.247730</td>\n",
       "    </tr>\n",
       "    <tr>\n",
       "      <th>7</th>\n",
       "      <td>1014.222555</td>\n",
       "      <td>499.198855</td>\n",
       "      <td>370.903419</td>\n",
       "    </tr>\n",
       "    <tr>\n",
       "      <th>8</th>\n",
       "      <td>3253.625957</td>\n",
       "      <td>0.000000</td>\n",
       "      <td>1868.499983</td>\n",
       "    </tr>\n",
       "    <tr>\n",
       "      <th>9</th>\n",
       "      <td>0.000000</td>\n",
       "      <td>0.000000</td>\n",
       "      <td>1868.499983</td>\n",
       "    </tr>\n",
       "  </tbody>\n",
       "</table>\n",
       "</div>"
      ],
      "text/plain": [
       "             b           d            c\n",
       "0     1.596620    0.677292    -0.555630\n",
       "1     2.517236    0.677292     1.476246\n",
       "2     7.501605    1.686754     3.508122\n",
       "3    19.578111    6.366118     8.568384\n",
       "4    55.813233   10.335038    27.666738\n",
       "5   142.151823   54.191959    58.671852\n",
       "6   422.071405   49.885230   221.247730\n",
       "7  1014.222555  499.198855   370.903419\n",
       "8  3253.625957    0.000000  1868.499983\n",
       "9     0.000000    0.000000  1868.499983"
      ]
     },
     "execution_count": 7,
     "metadata": {},
     "output_type": "execute_result"
    }
   ],
   "source": [
    "coeff = splinecoeff(df)\n",
    "coeff"
   ]
  },
  {
   "cell_type": "markdown",
   "metadata": {},
   "source": [
    "Now we construct a function to calculate each spline coefficient and plot both the interpolate and its error distribution:"
   ]
  },
  {
   "cell_type": "code",
   "execution_count": 18,
   "metadata": {},
   "outputs": [],
   "source": [
    "def splineplot(df):\n",
    "    import matplotlib.pyplot as plt #Import Plotting library\n",
    "    x = df.iloc[:,0]   #extract x vector from dataframe\n",
    "    y = df.iloc[:,1]   #extract y vector from dataframe\n",
    "    n = len(df)\n",
    "    coeff = splinecoeff(df)\n",
    "    b = coeff.iloc[:,0] #Extract b,c,d coefficients\n",
    "    c = coeff.iloc[:,2]\n",
    "    d = coeff.iloc[:,1]\n",
    "    \n",
    "    \n",
    "    \n",
    "    for i in range(1,n):\n",
    "        X = np.linspace(i-1,i,100)\n",
    "        S = y[i-1] + b[i-1]*(X-x[i-1]) + c[i-1]*(X-x[i-1])**2 + d[i-1]*(X-x[i-1])**3 #Computes each splines\n",
    "        X3 = np.linspace(0,9,10)\n",
    "        F = np.exp(X3) #Define F = e^x\n",
    "        plt.plot(X,S) #Plot S over each sub interval\n",
    "        \n",
    "        plt.plot(X3,F,'bo') #Plot F\n",
    "        plt.title('e^(x) and S(x)')\n",
    "        plt.xlabel('x')\n",
    "        plt.ylabel('e^x and S(x)')\n",
    "        \n",
    "    plt.show() \n",
    "    \n",
    "    \n",
    "    \n",
    "    for i in range(1,n):\n",
    "        X = np.linspace(i-1,i,100)\n",
    "        S = y[i-1] + b[i-1]*(X-x[i-1]) + c[i-1]*(X-x[i-1])**2 + d[i-1]*(X-x[i-1])**3\n",
    "        F = np.exp(X)\n",
    "        plt.plot(X,F-S)\n",
    "        plt.title('Interpolation error')\n",
    "        plt.xlabel('x')\n",
    "        plt.ylabel('e^x - S(x)')\n",
    "        \n"
   ]
  },
  {
   "cell_type": "code",
   "execution_count": 19,
   "metadata": {},
   "outputs": [
    {
     "data": {
      "image/png": "[encoded data removed]",
      "text/plain": [
       "<Figure size 432x288 with 1 Axes>"
      ]
     },
     "metadata": {
      "needs_background": "light"
     },
     "output_type": "display_data"
    },
    {
     "data": {
      "image/png": "[encoded data removed]",
      "text/plain": [
       "<Figure size 432x288 with 1 Axes>"
      ]
     },
     "metadata": {
      "needs_background": "light"
     },
     "output_type": "display_data"
    }
   ],
   "source": [
    "splineplot(df)"
   ]
  },
  {
   "cell_type": "code",
   "execution_count": null,
   "metadata": {},
   "outputs": [],
   "source": [
    " "
   ]
  },
  {
   "cell_type": "code",
   "execution_count": null,
   "metadata": {},
   "outputs": [],
   "source": []
  }
 ],
 "metadata": {
  "kernelspec": {
   "display_name": "Python 3",
   "language": "python",
   "name": "python3"
  },
  "language_info": {
   "codemirror_mode": {
    "name": "ipython",
    "version": 3
   },
   "file_extension": ".py",
   "mimetype": "text/x-python",
   "name": "python",
   "nbconvert_exporter": "python",
   "pygments_lexer": "ipython3",
   "version": "3.7.6"
  }
 },
 "nbformat": 4,
 "nbformat_minor": 4
}
